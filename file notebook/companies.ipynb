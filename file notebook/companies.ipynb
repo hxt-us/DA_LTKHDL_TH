{
 "cells": [
  {
   "cell_type": "markdown",
   "id": "24ebdd28",
   "metadata": {},
   "source": [
    "<h1><b>Đồ án thu thập dữ liệu</b></h1>\n",
    "Thông tin nhóm:"
   ]
  },
  {
   "cell_type": "markdown",
   "id": "5913e11a",
   "metadata": {},
   "source": [
    "<h2><b>Mô tả đồ án</b></h2>\n",
    "\n",
    "bổ sung sau"
   ]
  },
  {
   "cell_type": "markdown",
   "id": "b065b986",
   "metadata": {},
   "source": [
    "<h2><b>Thu thập dữ liệu</b></h2>\n",
    "\n",
    "Dữ liệu được thu thập từ trang web `itviec.com` và nguồn tải về là trên Kaggle. \n",
    "\n",
    "Link: https://www.kaggle.com/datasets/halhuynh/it-jobs-dataset?resource=download&select=jobs.csv\n",
    "\n",
    "Licence: Unknown\n",
    "\n"
   ]
  },
  {
   "cell_type": "markdown",
   "id": "fda85821",
   "metadata": {},
   "source": [
    "<b><h2>Khám phá dữ liệu</b></h2>"
   ]
  },
  {
   "cell_type": "markdown",
   "id": "9c4bb5e2",
   "metadata": {},
   "source": [
    "<b>improt các thư viện</b>\n"
   ]
  },
  {
   "cell_type": "code",
   "execution_count": 1,
   "id": "4624a743",
   "metadata": {},
   "outputs": [],
   "source": [
    "import pandas as pd\n",
    "import numpy as np\n",
    "import re"
   ]
  },
  {
   "cell_type": "code",
   "execution_count": 2,
   "id": "651cf26d",
   "metadata": {},
   "outputs": [],
   "source": [
    "pd.set_option('display.max_colwidth', 100) # Để dễ nhìn\n",
    "pd.set_option('display.max_columns', None) # Để dễ nhìn"
   ]
  },
  {
   "cell_type": "markdown",
   "id": "4b56b664",
   "metadata": {},
   "source": [
    "</b>Đọc dữ liệu vào biến `df_companies` bằng pandas.</b>"
   ]
  },
  {
   "cell_type": "code",
   "execution_count": 3,
   "id": "15b61b65",
   "metadata": {},
   "outputs": [
    {
     "data": {
      "text/html": [
       "<div>\n",
       "<style scoped>\n",
       "    .dataframe tbody tr th:only-of-type {\n",
       "        vertical-align: middle;\n",
       "    }\n",
       "\n",
       "    .dataframe tbody tr th {\n",
       "        vertical-align: top;\n",
       "    }\n",
       "\n",
       "    .dataframe thead th {\n",
       "        text-align: right;\n",
       "    }\n",
       "</style>\n",
       "<table border=\"1\" class=\"dataframe\">\n",
       "  <thead>\n",
       "    <tr style=\"text-align: right;\">\n",
       "      <th></th>\n",
       "      <th>company_id</th>\n",
       "      <th>company_name</th>\n",
       "      <th>average_rating</th>\n",
       "      <th>num_review</th>\n",
       "      <th>city</th>\n",
       "      <th>type</th>\n",
       "      <th>num_employee</th>\n",
       "      <th>country</th>\n",
       "      <th>working_day</th>\n",
       "      <th>OT</th>\n",
       "      <th>overview</th>\n",
       "      <th>expertise</th>\n",
       "      <th>benifit</th>\n",
       "      <th>logo_link</th>\n",
       "    </tr>\n",
       "  </thead>\n",
       "  <tbody>\n",
       "    <tr>\n",
       "      <th>0</th>\n",
       "      <td>kms-technology</td>\n",
       "      <td>KMS Technology</td>\n",
       "      <td>4.0</td>\n",
       "      <td>197 Reviews</td>\n",
       "      <td>Ho Chi Minh, Da Nang, Ha Noi</td>\n",
       "      <td>Outsourcing</td>\n",
       "      <td>1000+</td>\n",
       "      <td>United States</td>\n",
       "      <td>Monday - Friday</td>\n",
       "      <td>No OT</td>\n",
       "      <td>Established in 2009, KMS Technology is a U.S.-based engineering and services company with develo...</td>\n",
       "      <td>NaN</td>\n",
       "      <td>Want to be the Best? Join KMS!\\n\\n\\nIt’s positive to claim we’re one of the top IT companies in ...</td>\n",
       "      <td>https://itviec.com/rails/active_storage/representations/proxy/eyJfcmFpbHMiOnsibWVzc2FnZSI6IkJBaH...</td>\n",
       "    </tr>\n",
       "    <tr>\n",
       "      <th>1</th>\n",
       "      <td>nab-in-collaboration-with-positive-thinking-company-in-vietnam</td>\n",
       "      <td>NAB in collaboration with Positive Thinking Company in Vietnam</td>\n",
       "      <td>4.4</td>\n",
       "      <td>11 Reviews</td>\n",
       "      <td>Ho Chi Minh</td>\n",
       "      <td>Product</td>\n",
       "      <td>501-1000</td>\n",
       "      <td>Australia</td>\n",
       "      <td>Monday - Friday</td>\n",
       "      <td>No OT</td>\n",
       "      <td>NAB in collaboration with Positive Thinking Company have launched a Technology Centre for NAB in...</td>\n",
       "      <td>Languages &amp;amp; Frameworks\\n\\n\\nJavaScript ES6, TypeScript, Node.js, React - Redux, Java, Spring...</td>\n",
       "      <td>THE BENEFITS AND PERKS\\n\\n\\n\\n\\nVery competitive remuneration package\\n\\n\\nGenerous private fami...</td>\n",
       "      <td>https://itviec.com/rails/active_storage/representations/proxy/eyJfcmFpbHMiOnsibWVzc2FnZSI6IkJBaH...</td>\n",
       "    </tr>\n",
       "    <tr>\n",
       "      <th>2</th>\n",
       "      <td>robert-bosch-engineering-and-business-solutions</td>\n",
       "      <td>Robert Bosch Engineering And Business Solutions</td>\n",
       "      <td>3.2</td>\n",
       "      <td>217 Reviews</td>\n",
       "      <td>Ho Chi Minh, Ha Noi</td>\n",
       "      <td>Product</td>\n",
       "      <td>1-50</td>\n",
       "      <td>Germany</td>\n",
       "      <td>Monday - Friday</td>\n",
       "      <td>No OT</td>\n",
       "      <td>Robert BOSCH Engineering and Business Solutions Vietnam (RBVH) is a 100% owned subsidiary of Rob...</td>\n",
       "      <td>Embedded Software for Automotive Applications\\n\\n\\nEnterprise Software development using Java &amp;a...</td>\n",
       "      <td>Why \\nBOSCH\\n?\\n\\nBecause we don't just follow trends, we \\ncreate \\nthem.\\n\\nBecause together w...</td>\n",
       "      <td>https://itviec.com/rails/active_storage/representations/proxy/eyJfcmFpbHMiOnsibWVzc2FnZSI6IkJBaH...</td>\n",
       "    </tr>\n",
       "    <tr>\n",
       "      <th>3</th>\n",
       "      <td>gft-technologies-vietnam</td>\n",
       "      <td>GFT Technologies Vietnam</td>\n",
       "      <td>NaN</td>\n",
       "      <td>Reviews</td>\n",
       "      <td>Ho Chi Minh, Ha Noi</td>\n",
       "      <td>Outsourcing</td>\n",
       "      <td>51-150</td>\n",
       "      <td>Germany</td>\n",
       "      <td>Monday - Friday</td>\n",
       "      <td>No OT</td>\n",
       "      <td>Working at GFT Vietnam\\n\\n\\nGFT is driving the digital transformation of the world’s leading com...</td>\n",
       "      <td>Technical frameworks\\n\\n\\nJava/Kotlin, Spring Boot, Spring Framework, Kafka, Spring Cloud, JPA, ...</td>\n",
       "      <td>HR benefits\\n\\n\\n\\n\\nCompetitive salary\\n\\n\\nSalary band per level and employee benefits are rev...</td>\n",
       "      <td>https://itviec.com/rails/active_storage/representations/proxy/eyJfcmFpbHMiOnsibWVzc2FnZSI6IkJBaH...</td>\n",
       "    </tr>\n",
       "    <tr>\n",
       "      <th>4</th>\n",
       "      <td>tyme</td>\n",
       "      <td>Tyme</td>\n",
       "      <td>4.6</td>\n",
       "      <td>29 Reviews</td>\n",
       "      <td>Ho Chi Minh, Ha Noi</td>\n",
       "      <td>Product</td>\n",
       "      <td>151-300</td>\n",
       "      <td>Vietnam</td>\n",
       "      <td>Monday - Friday</td>\n",
       "      <td>No OT</td>\n",
       "      <td>Tyme Vietnam\\n is the international arm of \\nTyme\\n \\nGroup \\nwith operations in Hong Kong, Viet...</td>\n",
       "      <td>Mobile/ Tablet Development: \\nNative Android/iOS platforms for Mobile Banking, Kiosk Oboarding &amp;...</td>\n",
       "      <td>Our goal is simple: to be the #1 digital technology hub in Vietnam. We pride ourselves on being ...</td>\n",
       "      <td>https://itviec.com/rails/active_storage/representations/proxy/eyJfcmFpbHMiOnsibWVzc2FnZSI6IkJBaH...</td>\n",
       "    </tr>\n",
       "  </tbody>\n",
       "</table>\n",
       "</div>"
      ],
      "text/plain": [
       "                                                       company_id  \\\n",
       "0                                                  kms-technology   \n",
       "1  nab-in-collaboration-with-positive-thinking-company-in-vietnam   \n",
       "2                 robert-bosch-engineering-and-business-solutions   \n",
       "3                                        gft-technologies-vietnam   \n",
       "4                                                            tyme   \n",
       "\n",
       "                                                     company_name  \\\n",
       "0                                                  KMS Technology   \n",
       "1  NAB in collaboration with Positive Thinking Company in Vietnam   \n",
       "2                 Robert Bosch Engineering And Business Solutions   \n",
       "3                                        GFT Technologies Vietnam   \n",
       "4                                                            Tyme   \n",
       "\n",
       "   average_rating   num_review                          city         type  \\\n",
       "0             4.0  197 Reviews  Ho Chi Minh, Da Nang, Ha Noi  Outsourcing   \n",
       "1             4.4   11 Reviews                   Ho Chi Minh      Product   \n",
       "2             3.2  217 Reviews           Ho Chi Minh, Ha Noi      Product   \n",
       "3             NaN      Reviews           Ho Chi Minh, Ha Noi  Outsourcing   \n",
       "4             4.6   29 Reviews           Ho Chi Minh, Ha Noi      Product   \n",
       "\n",
       "  num_employee        country      working_day     OT  \\\n",
       "0        1000+  United States  Monday - Friday  No OT   \n",
       "1     501-1000      Australia  Monday - Friday  No OT   \n",
       "2         1-50        Germany  Monday - Friday  No OT   \n",
       "3       51-150        Germany  Monday - Friday  No OT   \n",
       "4      151-300        Vietnam  Monday - Friday  No OT   \n",
       "\n",
       "                                                                                              overview  \\\n",
       "0  Established in 2009, KMS Technology is a U.S.-based engineering and services company with develo...   \n",
       "1  NAB in collaboration with Positive Thinking Company have launched a Technology Centre for NAB in...   \n",
       "2  Robert BOSCH Engineering and Business Solutions Vietnam (RBVH) is a 100% owned subsidiary of Rob...   \n",
       "3  Working at GFT Vietnam\\n\\n\\nGFT is driving the digital transformation of the world’s leading com...   \n",
       "4  Tyme Vietnam\\n is the international arm of \\nTyme\\n \\nGroup \\nwith operations in Hong Kong, Viet...   \n",
       "\n",
       "                                                                                             expertise  \\\n",
       "0                                                                                                  NaN   \n",
       "1  Languages &amp; Frameworks\\n\\n\\nJavaScript ES6, TypeScript, Node.js, React - Redux, Java, Spring...   \n",
       "2  Embedded Software for Automotive Applications\\n\\n\\nEnterprise Software development using Java &a...   \n",
       "3  Technical frameworks\\n\\n\\nJava/Kotlin, Spring Boot, Spring Framework, Kafka, Spring Cloud, JPA, ...   \n",
       "4  Mobile/ Tablet Development: \\nNative Android/iOS platforms for Mobile Banking, Kiosk Oboarding &...   \n",
       "\n",
       "                                                                                               benifit  \\\n",
       "0  Want to be the Best? Join KMS!\\n\\n\\nIt’s positive to claim we’re one of the top IT companies in ...   \n",
       "1  THE BENEFITS AND PERKS\\n\\n\\n\\n\\nVery competitive remuneration package\\n\\n\\nGenerous private fami...   \n",
       "2  Why \\nBOSCH\\n?\\n\\nBecause we don't just follow trends, we \\ncreate \\nthem.\\n\\nBecause together w...   \n",
       "3  HR benefits\\n\\n\\n\\n\\nCompetitive salary\\n\\n\\nSalary band per level and employee benefits are rev...   \n",
       "4  Our goal is simple: to be the #1 digital technology hub in Vietnam. We pride ourselves on being ...   \n",
       "\n",
       "                                                                                             logo_link  \n",
       "0  https://itviec.com/rails/active_storage/representations/proxy/eyJfcmFpbHMiOnsibWVzc2FnZSI6IkJBaH...  \n",
       "1  https://itviec.com/rails/active_storage/representations/proxy/eyJfcmFpbHMiOnsibWVzc2FnZSI6IkJBaH...  \n",
       "2  https://itviec.com/rails/active_storage/representations/proxy/eyJfcmFpbHMiOnsibWVzc2FnZSI6IkJBaH...  \n",
       "3  https://itviec.com/rails/active_storage/representations/proxy/eyJfcmFpbHMiOnsibWVzc2FnZSI6IkJBaH...  \n",
       "4  https://itviec.com/rails/active_storage/representations/proxy/eyJfcmFpbHMiOnsibWVzc2FnZSI6IkJBaH...  "
      ]
     },
     "execution_count": 3,
     "metadata": {},
     "output_type": "execute_result"
    }
   ],
   "source": [
    "df_companies = pd.read_csv('../data/companies.csv')\n",
    "df_companies.head(5)"
   ]
  },
  {
   "cell_type": "markdown",
   "id": "38b848bb",
   "metadata": {},
   "source": [
    "<b>Dữ liệu gồm bao nhiêu dòng và cột, lưu số dòng và số cột vào 2 biến `num_rows` và `num_cols`.</b>"
   ]
  },
  {
   "cell_type": "code",
   "execution_count": 4,
   "id": "569a5dd3",
   "metadata": {},
   "outputs": [
    {
     "name": "stdout",
     "output_type": "stream",
     "text": [
      "14\n",
      "2041\n"
     ]
    }
   ],
   "source": [
    "num_rows, num_cols = df_companies.shape\n",
    "print(num_cols)\n",
    "print(num_rows)"
   ]
  },
  {
   "cell_type": "markdown",
   "id": "66d29880",
   "metadata": {},
   "source": [
    "Mỗi dòng ở đây thể hiện cho thông tin của một công ty tuyển dụng\n",
    "\n",
    "Các cột môt tả như sau:\n",
    "- company_id: ID của tông ty \n",
    "- company_name: Tên công ty\n",
    "- average_rating: Đánh giá trung bình\n",
    "- num_review: Số lượng đánh giá\n",
    "- city: Địa điểm làm việc\n",
    "- type: Loại công ty (outsourcing hoặc product)\n",
    "- num_employee: Số lượng nhân viên\n",
    "- country: Đất nước\n",
    "- working_day: Các ngày làm việc trong tuần\n",
    "- OT: Thông tin về việc công ty có OT hay không?\n",
    "- overview: Tổng quan về công ty\n",
    "- expertise: Chuyên môn\n",
    "- benifit: Phúc lợi khi làm việc\n",
    "- logo_link: logo link\n",
    "\n",
    "Các dòng và cột đều không có vấn đề, chúng ta tiếp tục khám phá dữ liệu."
   ]
  },
  {
   "cell_type": "markdown",
   "id": "beb6db77",
   "metadata": {},
   "source": [
    "<b>Các dòng của dữ liệu có bị lặp không, lưu vào biến `have_duplicated_rows` là `False` nếu không lặp và ngược lại.</b>"
   ]
  },
  {
   "cell_type": "code",
   "execution_count": 5,
   "id": "39d4121a",
   "metadata": {},
   "outputs": [
    {
     "name": "stdout",
     "output_type": "stream",
     "text": [
      "False\n"
     ]
    }
   ],
   "source": [
    "have_duplicated_rows = False\n",
    "if df_companies[df_companies.duplicated()].empty == True:\n",
    "    have_duplicated_rows == True\n",
    "print(have_duplicated_rows)"
   ]
  },
  {
   "cell_type": "markdown",
   "id": "cd0ea5ed",
   "metadata": {},
   "source": [
    "<b>Mỗi cột hiện đang có kiểu dữ liệu gì? Có cột nào có kiểu dữ liệu chưa phù hợp để có thể xử lý tiếp không?</b>\n",
    "\n",
    "Lưu giá trị của các kiểu dữ liệu vào biến `col_dtypes`."
   ]
  },
  {
   "cell_type": "code",
   "execution_count": 6,
   "id": "9999c945",
   "metadata": {
    "scrolled": false
   },
   "outputs": [
    {
     "name": "stdout",
     "output_type": "stream",
     "text": [
      "company_id         object\n",
      "company_name       object\n",
      "average_rating    float64\n",
      "num_review         object\n",
      "city               object\n",
      "type               object\n",
      "num_employee       object\n",
      "country            object\n",
      "working_day        object\n",
      "OT                 object\n",
      "overview           object\n",
      "expertise          object\n",
      "benifit            object\n",
      "logo_link          object\n",
      "dtype: object\n"
     ]
    }
   ],
   "source": [
    "col_dtypes = df_companies.dtypes\n",
    "print(col_dtypes)"
   ]
  },
  {
   "cell_type": "markdown",
   "id": "c55910dd",
   "metadata": {},
   "source": [
    "<b>Tìm kiếm kiểu dữ liệu thật sự của các cột có dtype là object.</b>"
   ]
  },
  {
   "cell_type": "code",
   "execution_count": 7,
   "id": "09c94445",
   "metadata": {},
   "outputs": [
    {
     "name": "stdout",
     "output_type": "stream",
     "text": [
      "company_id   {<class 'str'>}\n",
      "company_name   {<class 'str'>}\n",
      "average_rating   {<class 'float'>}\n",
      "num_review   {<class 'str'>}\n",
      "city   {<class 'str'>}\n",
      "type   {<class 'str'>}\n",
      "num_employee   {<class 'str'>}\n",
      "country   {<class 'str'>}\n",
      "working_day   {<class 'float'>, <class 'str'>}\n",
      "OT   {<class 'float'>, <class 'str'>}\n",
      "overview   {<class 'float'>, <class 'str'>}\n",
      "expertise   {<class 'float'>, <class 'str'>}\n",
      "benifit   {<class 'float'>, <class 'str'>}\n",
      "logo_link   {<class 'str'>}\n"
     ]
    }
   ],
   "source": [
    "def open_object_dtype(s):\n",
    "    dtypes = set()\n",
    "    s.apply(lambda x : dtypes.add(type(x)))\n",
    "    return dtypes\n",
    "\n",
    "for i in df_companies.columns:\n",
    "    print(i,\" \", open_object_dtype(df_companies[i]))"
   ]
  },
  {
   "cell_type": "markdown",
   "id": "96a7c772",
   "metadata": {},
   "source": [
    "Ta có thể thấy những vấn đề sau khi khám phá:\n",
    "- Cột `working_day`, `OT`, `overview`, `expertise`, `benifit` có những giá trị là float, đây có thể là những giá trị NaN nên hãy chuyển nó sang dạng chuỗi rỗng để tiện cho việc sử dụng sau này.\n",
    "- Cột `num_review` đang có kiểu dữ liệu str, ta chuyển sang dạng int bằng cách chỉ lấy số lượng review\n",
    "- Cột `num_employee` có dạng str ta chuyển đổi như sau:\n",
    "    - Các dòng có giá trị 1000+ ta đưa về 1001\n",
    "    - Các dòng có giá trị 501-1000 ta đưa về 10000\n",
    "    - Các dòng có giá trị 1-50 ta đưa về 50\n",
    "    - Các dòng có giá trị 51-150 ta đưa về 150\n",
    "    - Các dòng có giá trị 151-300 ta đưa về 300\n",
    "    - Các dòng có giá trị 301-500 ta đưa về 500"
   ]
  },
  {
   "cell_type": "markdown",
   "id": "8e035a78",
   "metadata": {},
   "source": [
    "<b><h2>Tiền xử lý dữ liệu</b></h2>"
   ]
  },
  {
   "cell_type": "markdown",
   "id": "b064d107",
   "metadata": {},
   "source": [
    "**Ta tiến hành xử lý cột `num_employee`**"
   ]
  },
  {
   "cell_type": "code",
   "execution_count": 8,
   "id": "74050f12",
   "metadata": {},
   "outputs": [
    {
     "data": {
      "text/plain": [
       "array(['1000+', '501-1000', '1-50', '51-150', '151-300', '301-500'],\n",
       "      dtype=object)"
      ]
     },
     "execution_count": 8,
     "metadata": {},
     "output_type": "execute_result"
    }
   ],
   "source": [
    "df_companies.num_employee.unique()"
   ]
  },
  {
   "cell_type": "code",
   "execution_count": 9,
   "id": "b98ab03e",
   "metadata": {},
   "outputs": [],
   "source": [
    "def transform_age(age_type):\n",
    "    if age_type == '1000+':\n",
    "        k = 1001\n",
    "    elif age_type == '501-1000':\n",
    "        k = 1000\n",
    "    elif age_type == '1-50':\n",
    "        k = 50\n",
    "    elif age_type == '51-150':\n",
    "        k = 150\n",
    "    elif age_type == '151-300':\n",
    "        k = 300\n",
    "    elif age_type == '301-500':\n",
    "        k = 500\n",
    "    else:\n",
    "        k = 0\n",
    "    return k\n",
    "\n",
    "df_companies[\"num_employee\"] = df_companies[\"num_employee\"].apply(lambda x : transform_age(x))"
   ]
  },
  {
   "cell_type": "markdown",
   "id": "5377a9fc",
   "metadata": {},
   "source": [
    "**Tiếp tục xử lý dữ liệu cột `num_review`**"
   ]
  },
  {
   "cell_type": "code",
   "execution_count": 10,
   "id": "2ed263e8",
   "metadata": {},
   "outputs": [],
   "source": [
    "def extract_number(x):\n",
    "    k = re.findall(r'\\d+', x)\n",
    "    if len(k) == 0:\n",
    "        return 0\n",
    "    else:\n",
    "        return k[0]\n",
    "\n",
    "df_companies['num_review'] = df_companies['num_review'].apply(lambda x : extract_number(x))"
   ]
  },
  {
   "cell_type": "code",
   "execution_count": 11,
   "id": "10781f79",
   "metadata": {},
   "outputs": [],
   "source": [
    "df_companies['num_review'] = df_companies.num_review.astype('int')"
   ]
  },
  {
   "cell_type": "markdown",
   "id": "3adf0b67",
   "metadata": {},
   "source": [
    "<b><h2>Khám phá dữ liệu ( Tiếp tục )</h2></b>"
   ]
  },
  {
   "cell_type": "markdown",
   "id": "def1cc3e",
   "metadata": {},
   "source": [
    "### Với mỗi cột có kiểu dữ liệu dạng số, các giá trị được phân bố như thế nào?"
   ]
  },
  {
   "cell_type": "markdown",
   "id": "7a740667",
   "metadata": {},
   "source": [
    "Với các cột có kiểu dữ liệu số, ta sẽ tính:\n",
    "- Tỉ lệ % (từ 0 đến 100) các giá trị thiếu \n",
    "- Giá trị min\n",
    "- Giá trị lower quartile (phân vị 25)\n",
    "- Giá trị median (phân vị 50)\n",
    "- Giá trị upper quartile (phân vị 75)\n",
    "- Giá trị max\n",
    "\n",
    "Lưu kết quả vào DataFrame `num_col_info_df`, trong đó: \n",
    "- Tên của các cột là tên của các cột số trong `survey_df`\n",
    "- Tên của các dòng là: \"missing_ratio\", \"min\", \"lower_quartile\", \"median\", \"upper_quartile\", \"max\"  \n",
    "\n",
    "Để dễ nhìn, tất cả các giá trị bạn đều làm tròn với 1 chữ số thập phân bằng phương thức `.round(1)`."
   ]
  },
  {
   "cell_type": "code",
   "execution_count": 12,
   "id": "563fd2c1",
   "metadata": {},
   "outputs": [
    {
     "data": {
      "text/html": [
       "<div>\n",
       "<style scoped>\n",
       "    .dataframe tbody tr th:only-of-type {\n",
       "        vertical-align: middle;\n",
       "    }\n",
       "\n",
       "    .dataframe tbody tr th {\n",
       "        vertical-align: top;\n",
       "    }\n",
       "\n",
       "    .dataframe thead th {\n",
       "        text-align: right;\n",
       "    }\n",
       "</style>\n",
       "<table border=\"1\" class=\"dataframe\">\n",
       "  <thead>\n",
       "    <tr style=\"text-align: right;\">\n",
       "      <th></th>\n",
       "      <th>average_rating</th>\n",
       "      <th>num_review</th>\n",
       "      <th>num_employee</th>\n",
       "    </tr>\n",
       "  </thead>\n",
       "  <tbody>\n",
       "    <tr>\n",
       "      <th>missing_ratio</th>\n",
       "      <td>72.4</td>\n",
       "      <td>0.0</td>\n",
       "      <td>0.0</td>\n",
       "    </tr>\n",
       "    <tr>\n",
       "      <th>min</th>\n",
       "      <td>2.0</td>\n",
       "      <td>0.0</td>\n",
       "      <td>50.0</td>\n",
       "    </tr>\n",
       "    <tr>\n",
       "      <th>lower_quartile</th>\n",
       "      <td>3.6</td>\n",
       "      <td>0.0</td>\n",
       "      <td>50.0</td>\n",
       "    </tr>\n",
       "    <tr>\n",
       "      <th>median</th>\n",
       "      <td>4.0</td>\n",
       "      <td>0.0</td>\n",
       "      <td>50.0</td>\n",
       "    </tr>\n",
       "    <tr>\n",
       "      <th>upper_quartile</th>\n",
       "      <td>4.4</td>\n",
       "      <td>3.0</td>\n",
       "      <td>150.0</td>\n",
       "    </tr>\n",
       "    <tr>\n",
       "      <th>max</th>\n",
       "      <td>5.0</td>\n",
       "      <td>1486.0</td>\n",
       "      <td>1001.0</td>\n",
       "    </tr>\n",
       "  </tbody>\n",
       "</table>\n",
       "</div>"
      ],
      "text/plain": [
       "                average_rating  num_review  num_employee\n",
       "missing_ratio             72.4         0.0           0.0\n",
       "min                        2.0         0.0          50.0\n",
       "lower_quartile             3.6         0.0          50.0\n",
       "median                     4.0         0.0          50.0\n",
       "upper_quartile             4.4         3.0         150.0\n",
       "max                        5.0      1486.0        1001.0"
      ]
     },
     "execution_count": 12,
     "metadata": {},
     "output_type": "execute_result"
    }
   ],
   "source": [
    "numerics = ['int16', 'int32', 'int64', 'float16', 'float32', 'float64']\n",
    "new_df = df_companies.select_dtypes(include=numerics)\n",
    "\n",
    "missing_ratio = (new_df.isna().sum()*100/num_rows).round(1)\n",
    "missing_ratio = missing_ratio.to_frame().T\n",
    "\n",
    "df = new_df.describe().round(1)\n",
    "\n",
    "min = df.iloc[[3]]\n",
    "\n",
    "lower_quartile = df.iloc[[4]]\n",
    "\n",
    "median = df.iloc[[5]]\n",
    "\n",
    "upper_quartile = df.iloc[[6]]\n",
    "\n",
    "max = df.iloc[[7]]\n",
    "\n",
    "frames = [missing_ratio, min, lower_quartile, median, upper_quartile, max]\n",
    "num_col_info_df = pd.concat(frames)\n",
    "num_col_info_df = num_col_info_df.rename(index={0: 'missing_ratio', '25%': 'lower_quartile', '50%': 'median', '75%':'upper_quartile'})\n",
    "\n",
    "num_col_info_df"
   ]
  },
  {
   "cell_type": "markdown",
   "id": "a9dbcdfd",
   "metadata": {},
   "source": [
    "### Với mỗi cột có kiểu dữ liệu không phải dạng số, các giá trị được phân bố như thế nào?\n",
    "\n",
    "Với các cột có kiểu dữ liệu không phải số, ta sẽ tính:\n",
    "- Tỉ lệ % (từ 0 đến 100) các giá trị thiếu \n",
    "- Số lượng các giá trị\n",
    "- Tỉ lệ % (từ 0 đến 100) của mỗi giá trị được sort theo tỉ lệ % giảm dần\n",
    "\n",
    "Lưu kết quả vào DataFrame `cat_col_info_df`, trong đó: \n",
    "- Tên của các cột là tên của các cột không phải số trong `df_companies`\n",
    "- Tên của các dòng là: \"missing_ratio\", \"num_values\", \"value_ratios\"  \n",
    "\n",
    "Để dễ nhìn, tất cả các giá trị đều được làm tròn với 1 chữ số thập phân bằng phương thức `.round(1)`."
   ]
  },
  {
   "cell_type": "markdown",
   "id": "0506d31d",
   "metadata": {},
   "source": [
    "Vì chưa có nhiều thời gian để tìm hiểu kiến thức nên nhóm chỉ thực hiện đối với một số cột: `company_id`, `company_name`, `type`, `country`, `working_day`, `OT`, `num_employee`"
   ]
  },
  {
   "cell_type": "code",
   "execution_count": 13,
   "id": "45dfe4ed",
   "metadata": {},
   "outputs": [
    {
     "data": {
      "text/html": [
       "<div>\n",
       "<style scoped>\n",
       "    .dataframe tbody tr th:only-of-type {\n",
       "        vertical-align: middle;\n",
       "    }\n",
       "\n",
       "    .dataframe tbody tr th {\n",
       "        vertical-align: top;\n",
       "    }\n",
       "\n",
       "    .dataframe thead th {\n",
       "        text-align: right;\n",
       "    }\n",
       "</style>\n",
       "<table border=\"1\" class=\"dataframe\">\n",
       "  <thead>\n",
       "    <tr style=\"text-align: right;\">\n",
       "      <th></th>\n",
       "      <th>company_id</th>\n",
       "      <th>company_name</th>\n",
       "      <th>type</th>\n",
       "      <th>country</th>\n",
       "      <th>working_day</th>\n",
       "      <th>OT</th>\n",
       "    </tr>\n",
       "  </thead>\n",
       "  <tbody>\n",
       "    <tr>\n",
       "      <th>missing_ratio</th>\n",
       "      <td>0.0</td>\n",
       "      <td>0.0</td>\n",
       "      <td>0.0</td>\n",
       "      <td>0.0</td>\n",
       "      <td>0.7</td>\n",
       "      <td>8.6</td>\n",
       "    </tr>\n",
       "    <tr>\n",
       "      <th>num_values</th>\n",
       "      <td>2041</td>\n",
       "      <td>2041</td>\n",
       "      <td>2</td>\n",
       "      <td>39</td>\n",
       "      <td>2</td>\n",
       "      <td>4</td>\n",
       "    </tr>\n",
       "    <tr>\n",
       "      <th>value_ratios</th>\n",
       "      <td>{'kms-technology': 0.0, 'viet-money-jsc': 0.0, 'toss-viva-republica-vietnam': 0.0, 'hyperion360'...</td>\n",
       "      <td>{'KMS Technology': 0.0, 'Viet Money Jsc': 0.0, 'Toss (Viva Republica Vietnam)': 0.0, 'Hyperion36...</td>\n",
       "      <td>{'Product': 75.2, 'Outsourcing': 24.8}</td>\n",
       "      <td>{'Vietnam': 58.9, 'Japan': 9.6, 'Singapore': 7.9, 'United States': 6.8, 'Korea, Republic of': 4....</td>\n",
       "      <td>{'Monday - Friday': 91.6, 'Monday - Saturday': 8.4}</td>\n",
       "      <td>{'No OT': 85.2, 'Extra salary for OT': 12.1, 'Extra days off for OT': 2.0, 'OT included in base ...</td>\n",
       "    </tr>\n",
       "  </tbody>\n",
       "</table>\n",
       "</div>"
      ],
      "text/plain": [
       "                                                                                                        company_id  \\\n",
       "missing_ratio                                                                                                  0.0   \n",
       "num_values                                                                                                    2041   \n",
       "value_ratios   {'kms-technology': 0.0, 'viet-money-jsc': 0.0, 'toss-viva-republica-vietnam': 0.0, 'hyperion360'...   \n",
       "\n",
       "                                                                                                      company_name  \\\n",
       "missing_ratio                                                                                                  0.0   \n",
       "num_values                                                                                                    2041   \n",
       "value_ratios   {'KMS Technology': 0.0, 'Viet Money Jsc': 0.0, 'Toss (Viva Republica Vietnam)': 0.0, 'Hyperion36...   \n",
       "\n",
       "                                                 type  \\\n",
       "missing_ratio                                     0.0   \n",
       "num_values                                          2   \n",
       "value_ratios   {'Product': 75.2, 'Outsourcing': 24.8}   \n",
       "\n",
       "                                                                                                           country  \\\n",
       "missing_ratio                                                                                                  0.0   \n",
       "num_values                                                                                                      39   \n",
       "value_ratios   {'Vietnam': 58.9, 'Japan': 9.6, 'Singapore': 7.9, 'United States': 6.8, 'Korea, Republic of': 4....   \n",
       "\n",
       "                                                       working_day  \\\n",
       "missing_ratio                                                  0.7   \n",
       "num_values                                                       2   \n",
       "value_ratios   {'Monday - Friday': 91.6, 'Monday - Saturday': 8.4}   \n",
       "\n",
       "                                                                                                                OT  \n",
       "missing_ratio                                                                                                  8.6  \n",
       "num_values                                                                                                       4  \n",
       "value_ratios   {'No OT': 85.2, 'Extra salary for OT': 12.1, 'Extra days off for OT': 2.0, 'OT included in base ...  "
      ]
     },
     "execution_count": 13,
     "metadata": {},
     "output_type": "execute_result"
    }
   ],
   "source": [
    "list_cat_col = ['company_id', 'company_name', 'type', 'country', 'working_day','OT']\n",
    "\n",
    "df = df_companies[list_cat_col].copy()\n",
    "\n",
    "missing_ratio = (df.isnull().sum()*100/num_rows).round(1)\n",
    "missing_ratio = missing_ratio.to_frame().T\n",
    "missing_ratio = missing_ratio.rename(index={0: 'missing_ratio'})\n",
    "\n",
    "num_values = df.nunique()\n",
    "num_values = num_values.to_frame().T\n",
    "num_values = num_values.rename(index={0: 'num_values'})\n",
    "\n",
    "value_ratios = df.apply(lambda x: dict((x.value_counts(normalize = True)*100).round(1)))\n",
    "for val in value_ratios.values:\n",
    "    val = dict(sorted(val.items(), key = lambda x: x[1], reverse = True))\n",
    "value_ratios = value_ratios.to_frame().T\n",
    "value_ratios = value_ratios.rename(index={0: 'value_ratios'})\n",
    "\n",
    "frames = [missing_ratio, num_values, value_ratios]\n",
    "cat_col_info_df = pd.concat(frames)\n",
    "\n",
    "cat_col_info_df"
   ]
  },
  {
   "cell_type": "markdown",
   "id": "5e752615",
   "metadata": {},
   "source": [
    "<b><h2>Tiền xử lý dữ liệu ( Tiếp tục )</h2></b>"
   ]
  },
  {
   "cell_type": "markdown",
   "id": "a8e2e892",
   "metadata": {},
   "source": [
    "**Xử lý các giá trị null**"
   ]
  },
  {
   "cell_type": "code",
   "execution_count": 14,
   "id": "64e30975",
   "metadata": {},
   "outputs": [
    {
     "name": "stdout",
     "output_type": "stream",
     "text": [
      "<class 'pandas.core.frame.DataFrame'>\n",
      "RangeIndex: 2041 entries, 0 to 2040\n",
      "Data columns (total 14 columns):\n",
      " #   Column          Non-Null Count  Dtype  \n",
      "---  ------          --------------  -----  \n",
      " 0   company_id      2041 non-null   object \n",
      " 1   company_name    2041 non-null   object \n",
      " 2   average_rating  563 non-null    float64\n",
      " 3   num_review      2041 non-null   int32  \n",
      " 4   city            2041 non-null   object \n",
      " 5   type            2041 non-null   object \n",
      " 6   num_employee    2041 non-null   int64  \n",
      " 7   country         2041 non-null   object \n",
      " 8   working_day     2041 non-null   object \n",
      " 9   OT              2041 non-null   object \n",
      " 10  overview        2041 non-null   object \n",
      " 11  expertise       2041 non-null   object \n",
      " 12  benifit         2041 non-null   object \n",
      " 13  logo_link       2041 non-null   object \n",
      "dtypes: float64(1), int32(1), int64(1), object(11)\n",
      "memory usage: 215.4+ KB\n"
     ]
    }
   ],
   "source": [
    "list_null_cols = ['working_day', 'OT', 'overview', 'expertise', 'benifit']\n",
    "\n",
    "df_companies[list_null_cols] = df_companies[list_null_cols].fillna(\"\")\n",
    "\n",
    "df_companies.info()"
   ]
  },
  {
   "cell_type": "markdown",
   "id": "05589128",
   "metadata": {},
   "source": [
    "Cột `average_rating` cũng có các giá trị null nên ta tiếp tục xử lý giá trị null ở cột này"
   ]
  },
  {
   "cell_type": "code",
   "execution_count": 15,
   "id": "99cd23a7",
   "metadata": {},
   "outputs": [],
   "source": [
    "df_companies['average_rating'] = df_companies['average_rating'].fillna(0)"
   ]
  },
  {
   "cell_type": "markdown",
   "id": "a19eefc1",
   "metadata": {},
   "source": [
    "Tiếp theo ta sẽ đi đến bước đưa ra những câu hỏi về dữ liệu."
   ]
  }
 ],
 "metadata": {
  "kernelspec": {
   "display_name": "Python 3 (ipykernel)",
   "language": "python",
   "name": "python3"
  },
  "language_info": {
   "codemirror_mode": {
    "name": "ipython",
    "version": 3
   },
   "file_extension": ".py",
   "mimetype": "text/x-python",
   "name": "python",
   "nbconvert_exporter": "python",
   "pygments_lexer": "ipython3",
   "version": "3.9.15"
  }
 },
 "nbformat": 4,
 "nbformat_minor": 5
}
