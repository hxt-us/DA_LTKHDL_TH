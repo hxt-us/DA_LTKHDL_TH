{
 "cells": [
  {
   "cell_type": "markdown",
   "metadata": {},
   "source": [
    "<h1><b>Đồ án thu thập dữ liệu</b></h1>\n",
    "Thông tin nhóm:\n"
   ]
  },
  {
   "cell_type": "markdown",
   "metadata": {},
   "source": [
    "<h2><b>Mô tả đồ án</b></h2>\n",
    "\n",
    "bổ sung sau"
   ]
  },
  {
   "cell_type": "markdown",
   "metadata": {},
   "source": [
    "<h2><b>Thu thập dữ liệu</b></h2>\n",
    "\n",
    "Dữ liệu được thu thập từ trang web `itviec.com` và nguồn tải về là trên Kaggle. \n",
    "\n",
    "Link: https://www.kaggle.com/datasets/halhuynh/it-jobs-dataset?resource=download&select=jobs.csv\n",
    "\n",
    "Licence: Unknown\n",
    "\n"
   ]
  },
  {
   "cell_type": "markdown",
   "metadata": {},
   "source": [
    "<b><h2>Khám phá dữ liệu</b></h2>"
   ]
  },
  {
   "cell_type": "markdown",
   "metadata": {},
   "source": [
    "<b>improt các thư viện</b>\n"
   ]
  },
  {
   "cell_type": "code",
   "execution_count": 52,
   "metadata": {},
   "outputs": [],
   "source": [
    "import pandas as pd\n",
    "import numpy as np\n"
   ]
  },
  {
   "cell_type": "markdown",
   "metadata": {},
   "source": [
    "</b>Đọc dữ liệu vào biến `df_job` bằng pandas.</b>"
   ]
  },
  {
   "cell_type": "code",
   "execution_count": 53,
   "metadata": {},
   "outputs": [
    {
     "data": {
      "text/html": [
       "<div>\n",
       "<style scoped>\n",
       "    .dataframe tbody tr th:only-of-type {\n",
       "        vertical-align: middle;\n",
       "    }\n",
       "\n",
       "    .dataframe tbody tr th {\n",
       "        vertical-align: top;\n",
       "    }\n",
       "\n",
       "    .dataframe thead th {\n",
       "        text-align: right;\n",
       "    }\n",
       "</style>\n",
       "<table border=\"1\" class=\"dataframe\">\n",
       "  <thead>\n",
       "    <tr style=\"text-align: right;\">\n",
       "      <th></th>\n",
       "      <th>job_id</th>\n",
       "      <th>company_id</th>\n",
       "      <th>job_name</th>\n",
       "      <th>taglist</th>\n",
       "      <th>location</th>\n",
       "      <th>three_reasons</th>\n",
       "      <th>description</th>\n",
       "    </tr>\n",
       "  </thead>\n",
       "  <tbody>\n",
       "    <tr>\n",
       "      <th>0</th>\n",
       "      <td>kms-technology:jrsr_qa_engineer_kms_labs_bonus</td>\n",
       "      <td>kms-technology</td>\n",
       "      <td>(Jr/Sr) QA Engineer, KMS Labs - BONUS</td>\n",
       "      <td>QA QC   English   Tester</td>\n",
       "      <td>290/26 Nam Ky Khoi Nghia, ward 8, District 3, ...</td>\n",
       "      <td>Inspired Leadership Team and Talented Colleagu...</td>\n",
       "      <td>KMS Labs is the startup incubation arm of KMS ...</td>\n",
       "    </tr>\n",
       "    <tr>\n",
       "      <th>1</th>\n",
       "      <td>kms-technology:engineering_manager_bonus</td>\n",
       "      <td>kms-technology</td>\n",
       "      <td>Engineering Manager - BONUS</td>\n",
       "      <td>Project Manager   Agile   English</td>\n",
       "      <td>02 Tan Vien, ward 2, Tan Binh, Ho Chi Minh</td>\n",
       "      <td>Inspired Leadership Team and Talented Colleagu...</td>\n",
       "      <td>Full 13th Month Salary. ***Apply and Join in S...</td>\n",
       "    </tr>\n",
       "    <tr>\n",
       "      <th>2</th>\n",
       "      <td>kms-technology:fullstack_mobile_mobilenodejs_k...</td>\n",
       "      <td>kms-technology</td>\n",
       "      <td>Fullstack Mobile (Mobile,NodeJs) Kobiton</td>\n",
       "      <td>NodeJS   React Native   Fresher Accepted</td>\n",
       "      <td>02 Tan Vien, ward 2, Tan Binh, Ho Chi Minh</td>\n",
       "      <td>Inspired Leadership Team and Talented Colleagu...</td>\n",
       "      <td>is the mobile experience platform trusted by l...</td>\n",
       "    </tr>\n",
       "    <tr>\n",
       "      <th>3</th>\n",
       "      <td>kms-technology:jrsrprincipal_java_developer_bonus</td>\n",
       "      <td>kms-technology</td>\n",
       "      <td>(Jr/Sr/Principal) Java Developer- BONUS</td>\n",
       "      <td>Java   JavaScript   Spring</td>\n",
       "      <td>174 Thai Ha, Dong Da, Ha Noi</td>\n",
       "      <td>Inspired Leadership Team and Talented Colleagu...</td>\n",
       "      <td>Full 13th Month Salary ***Apply and Join in Se...</td>\n",
       "    </tr>\n",
       "    <tr>\n",
       "      <th>4</th>\n",
       "      <td>kms-technology:product_manager_kms_labs_bonus</td>\n",
       "      <td>kms-technology</td>\n",
       "      <td>Product Manager, KMS Labs - BONUS</td>\n",
       "      <td>Product Manager   English   Manager</td>\n",
       "      <td>290/26 Nam Ky Khoi Nghia, ward 8, District 3, ...</td>\n",
       "      <td>Inspired Leadership Team and Talented Colleagu...</td>\n",
       "      <td>KMS Labs\\r\\n is the startup incubation arm of ...</td>\n",
       "    </tr>\n",
       "  </tbody>\n",
       "</table>\n",
       "</div>"
      ],
      "text/plain": [
       "                                              job_id      company_id  \\\n",
       "0     kms-technology:jrsr_qa_engineer_kms_labs_bonus  kms-technology   \n",
       "1           kms-technology:engineering_manager_bonus  kms-technology   \n",
       "2  kms-technology:fullstack_mobile_mobilenodejs_k...  kms-technology   \n",
       "3  kms-technology:jrsrprincipal_java_developer_bonus  kms-technology   \n",
       "4      kms-technology:product_manager_kms_labs_bonus  kms-technology   \n",
       "\n",
       "                                   job_name  \\\n",
       "0     (Jr/Sr) QA Engineer, KMS Labs - BONUS   \n",
       "1               Engineering Manager - BONUS   \n",
       "2  Fullstack Mobile (Mobile,NodeJs) Kobiton   \n",
       "3   (Jr/Sr/Principal) Java Developer- BONUS   \n",
       "4         Product Manager, KMS Labs - BONUS   \n",
       "\n",
       "                                      taglist  \\\n",
       "0                   QA QC   English   Tester    \n",
       "1          Project Manager   Agile   English    \n",
       "2   NodeJS   React Native   Fresher Accepted    \n",
       "3                 Java   JavaScript   Spring    \n",
       "4        Product Manager   English   Manager    \n",
       "\n",
       "                                            location  \\\n",
       "0  290/26 Nam Ky Khoi Nghia, ward 8, District 3, ...   \n",
       "1         02 Tan Vien, ward 2, Tan Binh, Ho Chi Minh   \n",
       "2         02 Tan Vien, ward 2, Tan Binh, Ho Chi Minh   \n",
       "3                       174 Thai Ha, Dong Da, Ha Noi   \n",
       "4  290/26 Nam Ky Khoi Nghia, ward 8, District 3, ...   \n",
       "\n",
       "                                       three_reasons  \\\n",
       "0  Inspired Leadership Team and Talented Colleagu...   \n",
       "1  Inspired Leadership Team and Talented Colleagu...   \n",
       "2  Inspired Leadership Team and Talented Colleagu...   \n",
       "3  Inspired Leadership Team and Talented Colleagu...   \n",
       "4  Inspired Leadership Team and Talented Colleagu...   \n",
       "\n",
       "                                         description  \n",
       "0  KMS Labs is the startup incubation arm of KMS ...  \n",
       "1  Full 13th Month Salary. ***Apply and Join in S...  \n",
       "2  is the mobile experience platform trusted by l...  \n",
       "3  Full 13th Month Salary ***Apply and Join in Se...  \n",
       "4  KMS Labs\\r\\n is the startup incubation arm of ...  "
      ]
     },
     "execution_count": 53,
     "metadata": {},
     "output_type": "execute_result"
    }
   ],
   "source": [
    "#   YOUR CODE HEAR\n",
    "df_job = pd.read_csv('../data/jobs.csv')\n",
    "df_job.head(5)"
   ]
  },
  {
   "cell_type": "markdown",
   "metadata": {},
   "source": [
    "<b>Dữ liệu gồm bao nhiêu dòng và cột, lưu số dòng và số cột vào 2 biến `num_rows` và `num_cols`.</b>"
   ]
  },
  {
   "cell_type": "code",
   "execution_count": 54,
   "metadata": {},
   "outputs": [
    {
     "name": "stdout",
     "output_type": "stream",
     "text": [
      "7\n",
      "1412\n"
     ]
    }
   ],
   "source": [
    "#   YOUR CODE HEAR\n",
    "num_rows = df_job.shape[0]\n",
    "num_cols = df_job.shape[1]\n",
    "print(num_cols)\n",
    "print(num_rows)"
   ]
  },
  {
   "cell_type": "markdown",
   "metadata": {},
   "source": [
    "Mỗi dòng ở đây thể hiện cho một việc làm mà nhà tuyển dụng muốn tuyển dụng.\n",
    "\n",
    "Các cột thể hiện những mô tả về công việc của nhà tuyển dụng:\n",
    "- job_id: Loại công việc \n",
    "- copany_id: Loại công ti\n",
    "- job_name: Tên công việc\n",
    "- taglist: Danh sách từ khóa liên quan đến công việc\n",
    "- location: Địa điểm làm việc\n",
    "- three_reasons: Lợi ích khi làm việc tại đây\n",
    "- description: Mô tả thêm về công việc\n",
    "\n",
    "Các dòng và cột đều không có vấn đề, chúng ta tiếp tục khám phá dữ liệu."
   ]
  },
  {
   "cell_type": "markdown",
   "metadata": {},
   "source": [
    "<b>Các dòng của dữ liệu có bị lặp không, lưu vào biến `have_duplicated_rows` là `False` nếu không lặp và ngược lại.</b>"
   ]
  },
  {
   "cell_type": "code",
   "execution_count": 55,
   "metadata": {},
   "outputs": [
    {
     "name": "stdout",
     "output_type": "stream",
     "text": [
      "False\n"
     ]
    }
   ],
   "source": [
    "#   YOUR CODE HEAR\n",
    "have_duplicated_rows = False\n",
    "if df_job[df_job.duplicated()].empty == True:\n",
    "    have_duplicated_rows == True\n",
    "print(have_duplicated_rows)"
   ]
  },
  {
   "cell_type": "markdown",
   "metadata": {},
   "source": [
    "<b>Mỗi cột hiện đang có kiểu dữ liệu gì? Có cột nào có kiểu dữ liệu chưa phù hợp để có thể xử lý tiếp không?</b>\n",
    "\n",
    "Lưu giá trị của các kiểu dữ liệu vào biến `col_dtypes`."
   ]
  },
  {
   "cell_type": "code",
   "execution_count": 56,
   "metadata": {},
   "outputs": [
    {
     "name": "stdout",
     "output_type": "stream",
     "text": [
      "job_id           object\n",
      "company_id       object\n",
      "job_name         object\n",
      "taglist          object\n",
      "location         object\n",
      "three_reasons    object\n",
      "description      object\n",
      "dtype: object\n"
     ]
    }
   ],
   "source": [
    "#   YOUR CODE HEAR\n",
    "df_job.dtypes\n",
    "col_dtypes = df_job.dtypes\n",
    "print(col_dtypes)"
   ]
  },
  {
   "cell_type": "markdown",
   "metadata": {},
   "source": [
    "<b>Tìm kiếm kiểu dữ liệu thật sự của các cột có dtype là object.</b>"
   ]
  },
  {
   "cell_type": "code",
   "execution_count": 57,
   "metadata": {},
   "outputs": [
    {
     "name": "stdout",
     "output_type": "stream",
     "text": [
      "job_id   {<class 'str'>}\n",
      "company_id   {<class 'str'>}\n",
      "job_name   {<class 'str'>}\n",
      "taglist   {<class 'str'>}\n",
      "location   {<class 'str'>}\n",
      "three_reasons   {<class 'str'>, <class 'float'>}\n",
      "description   {<class 'str'>}\n"
     ]
    }
   ],
   "source": [
    "# YOUR CODE HERE\n",
    "def open_object_dtype(s):\n",
    "    dtypes = set()\n",
    "    s.apply(lambda x : dtypes.add(type(x)))\n",
    "    return dtypes\n",
    "\n",
    "for i in df_job.columns:\n",
    "    print(i,\" \", open_object_dtype(df_job[i]))"
   ]
  },
  {
   "cell_type": "markdown",
   "metadata": {},
   "source": [
    "Ta có thể thấy những vấn đề sau khi khám phá:\n",
    "- Cột `three_reasons` có những giá trị là float, đây có thể là những giá trị NaN nên hãy chuyển nó sang dạng chuỗi rỗng để tiện cho việc sử dụng sau này.\n",
    "- Cột `description` là những giá trị có các kí tự `\\r` hoặc `\\n` vì thế ta nên lưu những giá trị trong cột này vào 1 dict để dễ lưu trữ hơn.\n",
    "- Ngoài ra dữ liệu không có những kiểu dữ liệu dạng số và ngày tháng, điều này giúp tiền xử lí không quá phức tạp."
   ]
  },
  {
   "cell_type": "markdown",
   "metadata": {},
   "source": [
    "<h2><b>Tiền xử lí dữ liệu </b></h2>"
   ]
  },
  {
   "cell_type": "markdown",
   "metadata": {},
   "source": [
    "<b>Đổi giá trị NaN sang chuỗi rỗng.</b>"
   ]
  },
  {
   "cell_type": "code",
   "execution_count": 58,
   "metadata": {},
   "outputs": [],
   "source": [
    "df_job['three_reasons'] = df_job['three_reasons'].replace([np.nan],'')"
   ]
  },
  {
   "cell_type": "markdown",
   "metadata": {},
   "source": [
    "<b>Lưu giá trị của cột description vào list.</b>"
   ]
  },
  {
   "cell_type": "code",
   "execution_count": 59,
   "metadata": {},
   "outputs": [
    {
     "name": "stdout",
     "output_type": "stream",
     "text": [
      "['Full 13th Month Salary ***Apply and Join in Sep 20 - Nov 30, 2021', 'Acknowledgement of Covid-19 pandemic.', 'All KMSers will need to working from home to ensure safety. New member will get designated supports:', \"Working devices will be delivered at door upon the new member's joining date\", 'Onboarding will be organized virtually by both the HR personnel and the new team.', 'The HR personnel will be available for any support needs of the new member.', '------------------------------------------------------------------------------------------------------------------------------------------------------------------------------------------------------------------------------------', 'The Brilliant Career You Love:\\xa0', 'Love Software Testing', 'Follow Your Passion.', 'Enjoy Every Single Working Day with Your Nice Colleagues and Our Kind Clients.', 'Take Your Skill to the Next Level.', 'General requirements:', 'At least an intermediate skill level of English', 'Likely having 2+ years of experience in software testing.', 'Solid testing experiences (test strategy, test approach, test plan, test techniques included black box, risk-based, exploratory, Non-UI testing, etc.)', 'Good knowledge of the software development process, especially the software testing process', 'Methodical and detail-oriented, with solid analytical skills and problem-solving ability', 'Based on your competencies and potentials, you can apply one of these positions:', '(1) (Junior/Senior) Manual Test Engineer:', 'Good experience in manual testing for web-based and standalone applications', 'Experience with cross-browser, cross-platform and responsive testing (PC, mobile and tablet)', '(2) (Junior/Senior) Full-stack Test Engineer :', 'Strong experiences on manual testing\\xa0', 'Experience on Automation testing, API testing', 'Research/ Experience on using technologies and frameworks: Selenium WebDriver, TestNG, JUnit…', '(3) (Junior/Senior) Automation Test Engineer:', 'Experience on Automate functional, regression and/or performance acceptance tests...', 'Experience in creating and running automated tests on a web/mobile app using app testing frameworks like Selenium/Appium/XCTest/ XCUiTest', 'Hand-on experience in using test tools like TestNG/ Jasmine/ Mocha/ Protractor/ caWebdriverIO etc.', 'Want to be the Best? Join KMS!', 'It’s positive to claim we’re one of the top IT companies in Vietnam:', 'From Vietnam, we have crafted brilliant products for millions of global users.', 'We build awesome global products to conquer the world from Vietnam: QASymphony, Kobiton, Katalon, Witurn, Sprynkl and many more to come.', 'We’re committed to investing in our people and building a workplace you’ll love coming to every day.', \"Perks you 'll love at KMS:\", 'Working in one of the Best Places to Work in Vietnam', 'Building large-scale &amp; global software products', 'Working &amp; growing with Passionate &amp; Talented Team', 'Diverse careers opportunities with Software Outsourcing, Software Product Development, IT Solutions &amp; Consulting', 'Attractive Salary and Benefits', 'Performance appraisals every year and Performance Bonus', 'Onsite opportunities: short-term and long-term assignments in U.S, Europe, Asia.', 'Flexible working time', 'Various training on hot-trend technologies, best practices and soft skills', 'Premium healthcare insurance for you and your loved ones', 'Company trip, big annual year-end party every year, team building, etc.', 'Fitness &amp; sport activities: football, tennis, table-tennis, badminton, yoga, swimming…', 'Joining community development activities: 1% Pledge, charity every quarter, blood donation, public seminars, career orientation talks,…', 'Free in-house entertainment facilities (foosball, ping pong, gym…), coffee (latte, cappuccino, espresso) and snack (instant noodles, cookies, candies…)', 'And much more, join us and let yourself explore other fantastic things!']\n"
     ]
    }
   ],
   "source": [
    "\n",
    "if type(df_job['description'].at[0]) != list:\n",
    "    df_job['description'] = df_job['description'].replace(r'\\n','',regex=True)\n",
    "    \n",
    "    df_job['description'] = df_job['description'].apply(lambda x: x.split('\\r'))\n",
    "    \n",
    "    df_job['description'] = df_job['description'].apply(lambda x: list(filter(None, x)))\n",
    "    "
   ]
  },
  {
   "cell_type": "markdown",
   "metadata": {},
   "source": [
    "<b><h2>Khám phá dữ liệu ( Tiếp tục )</h2></b>"
   ]
  },
  {
   "cell_type": "markdown",
   "metadata": {},
   "source": [
    "<b>Với mỗi cột có kiểu dữ liệu dạng categorical, các giá trị được phân bố như thế nào?</b>\n",
    "\n",
    "Với mỗi cột dạng categorical, bạn tính tỉ lệ % giá trị thiếu (từ 0 đến 100), số lượng giá trị khác nhau (không xét giá trị thiếu), list/array các giá trị khác nhau (không xét giá trị thiếu). Bạn lưu kết quả vào dataframe `cate_col_profiles_df`. Dataframe này có 3 dòng là \"missing_ratio\", \"num_diff_vals\", \"diff_vals\"; và có 7 cột là \"job_id\", \"company_id\", \"job_name\", \"taglist\", \"location\", \"three_reasons\", \"description\"."
   ]
  },
  {
   "cell_type": "code",
   "execution_count": 60,
   "metadata": {},
   "outputs": [
    {
     "name": "stdout",
     "output_type": "stream",
     "text": [
      "missing_ratio                                                  0.0\n",
      "num_diff_vals                                                  493\n",
      "diff_vals        {, Working on big B2B project for interesting ...\n",
      "Name: three_reasons, dtype: object\n"
     ]
    }
   ],
   "source": [
    "# YOUR CODE HEAR\n",
    "# YOUR CODE HERE\n",
    "cate_col_profiles_df = pd.DataFrame(\n",
    "    index = pd.Index(['missing_ratio','num_diff_vals','diff_vals'])\n",
    ")\n",
    "def cate_col_profile(df):\n",
    "    missing_ratio = 0\n",
    "    num_diff_vals = 0\n",
    "    diff_vals = None\n",
    "    if type(df[0]) != list:\n",
    "        missing_ratio = (df.isnull().sum() / df.shape[0]) * 100\n",
    "        \n",
    "        num_diff_vals = df.nunique()\n",
    "        temp = df\n",
    "        temp = temp.dropna()\n",
    "        diff_vals = set(temp)\n",
    "    result = [missing_ratio,num_diff_vals,diff_vals]\n",
    "    return result\n",
    "for i in df_job.columns:\n",
    "    cate_col_profiles_df[i] = cate_col_profile(df_job[i])\n",
    "print(cate_col_profiles_df['three_reasons'])\n"
   ]
  },
  {
   "cell_type": "markdown",
   "metadata": {},
   "source": [
    "Có vẻ như không có gì bất thường ở dữ liệu cả, tiếp theo ta sẽ đi đến bước đưa ra những câu hỏi về dữ liệu."
   ]
  },
  {
   "cell_type": "markdown",
   "metadata": {},
   "source": [
    "<h2><b>Đưa ra những câu hỏi về dữ liệu</b></h2>\n",
    "\n",
    "- Hiện nay nhà tuyển dụng tìm kiếm 4 job level chính là: Fresher, Junior, Senior, Manager. Vậy hãy đếm số lượng của từng loại job level trên và vẽ một biểu đồ cột giúp chúng ta so sánh. (job_name)\n",
    "- Thị trường Việt Nam đa phần là thị trường Outsource vậy hãy tìm những công ti chuyên làm về Outsourcing trong danh sách các công ti trong Dataframe trên và lưu lại vào một Dataframe mới tên là `df_outsourcing`. Sau đó hãy tìm tên những nước nào có trong dataframe đó lưu vào một dict gồm keys là tên đất nước và values là số lượng công ti làm việc cho đất nước đó, sắp xếp theo thứ tự giảm dần.\n",
    "- Tìm ra 10 công nghệ được nhiều công ti tuyển dụng đề ra và săn đón nhiều nhất. \n",
    "- Hãy tìm những quận huyện ở HCM và HN trong df_job, sau đó lưu vào 2 dict là HCM và HN với keys là tên huyện, values là số lượng công ti tuyển dụng ở quận huyện đó. Sau đó vẽ một barchart để thể hiện dict này.\n"
   ]
  }
 ],
 "metadata": {
  "kernelspec": {
   "display_name": "Python 3.9.0 64-bit",
   "language": "python",
   "name": "python3"
  },
  "language_info": {
   "codemirror_mode": {
    "name": "ipython",
    "version": 3
   },
   "file_extension": ".py",
   "mimetype": "text/x-python",
   "name": "python",
   "nbconvert_exporter": "python",
   "pygments_lexer": "ipython3",
   "version": "3.9.0"
  },
  "orig_nbformat": 4,
  "vscode": {
   "interpreter": {
    "hash": "6f0405dd55fe551edf6ef7ed620dd0db247e1c02a63f3f08a6428c3e43caeaee"
   }
  }
 },
 "nbformat": 4,
 "nbformat_minor": 2
}
