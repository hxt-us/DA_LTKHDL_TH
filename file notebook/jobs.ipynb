{
 "cells": [
  {
   "cell_type": "markdown",
   "metadata": {},
   "source": [
    "<h1><b>Đồ án thu thập dữ liệu</b></h1>\n",
    "Thông tin nhóm:\n"
   ]
  },
  {
   "cell_type": "markdown",
   "metadata": {},
   "source": [
    "<h2><b>Mô tả đồ án</b></h2>\n",
    "\n",
    "bổ sung sau"
   ]
  },
  {
   "cell_type": "markdown",
   "metadata": {},
   "source": [
    "<h2><b>Thu thập dữ liệu</b></h2>\n",
    "\n",
    "Dữ liệu được thu thập từ trang web `itviec.com` và nguồn tải về là trên Kaggle. \n",
    "\n",
    "Link: https://www.kaggle.com/datasets/halhuynh/it-jobs-dataset?resource=download&select=jobs.csv\n",
    "\n",
    "Licence: Unknown\n",
    "\n"
   ]
  },
  {
   "cell_type": "markdown",
   "metadata": {},
   "source": [
    "<b><h2>Khám phá dữ liệu</b></h2>"
   ]
  },
  {
   "cell_type": "markdown",
   "metadata": {},
   "source": [
    "<b>improt các thư viện</b>\n"
   ]
  },
  {
   "cell_type": "code",
   "execution_count": null,
   "metadata": {},
   "outputs": [],
   "source": [
    "import pandas as pd\n",
    "import numpy as np"
   ]
  },
  {
   "cell_type": "markdown",
   "metadata": {},
   "source": [
    "</b>Đọc dữ liệu vào biến `df_job` bằng pandas.</b>"
   ]
  },
  {
   "cell_type": "code",
   "execution_count": null,
   "metadata": {},
   "outputs": [],
   "source": [
    "#   YOUR CODE HEAR\n",
    "df_job = pd.read_csv('jobs.csv')\n",
    "df_job.head(5)"
   ]
  },
  {
   "cell_type": "markdown",
   "metadata": {},
   "source": [
    "<b>Dữ liệu gồm bao nhiêu dòng và cột, lưu số dòng và số cột vào 2 biến `num_rows` và `num_cols`.</b>"
   ]
  },
  {
   "cell_type": "code",
   "execution_count": null,
   "metadata": {},
   "outputs": [],
   "source": [
    "#   YOUR CODE HEAR\n",
    "num_rows = df_job.shape[0]\n",
    "num_cols = df_job.shape[1]\n",
    "print(num_cols)\n",
    "print(num_rows)"
   ]
  },
  {
   "cell_type": "markdown",
   "metadata": {},
   "source": [
    "Mỗi dòng ở đây thể hiện cho một việc làm mà nhà tuyển dụng muốn tuyển dụng.\n",
    "\n",
    "Các cột thể hiện những mô tả về công việc của nhà tuyển dụng:\n",
    "- job_id: Loại công việc \n",
    "- copany_id: Loại công ti\n",
    "- job_name: Tên công việc\n",
    "- taglist: Danh sách từ khóa liên quan đến công việc\n",
    "- location: Địa điểm làm việc\n",
    "- three_reasons: Lợi ích khi làm việc tại đây\n",
    "- description: Mô tả thêm về công việc\n",
    "\n",
    "Các dòng và cột đều không có vấn đề, chúng ta tiếp tục khám phá dữ liệu."
   ]
  },
  {
   "cell_type": "markdown",
   "metadata": {},
   "source": [
    "<b>Các dòng của dữ liệu có bị lặp không, lưu vào biến `have_duplicated_rows` là `False` nếu không lặp và ngược lại.</b>"
   ]
  },
  {
   "cell_type": "code",
   "execution_count": null,
   "metadata": {},
   "outputs": [],
   "source": [
    "#   YOUR CODE HEAR\n",
    "have_duplicated_rows = False\n",
    "if df_job[df_job.duplicated()].empty == True:\n",
    "    have_duplicated_rows == True\n",
    "print(have_duplicated_rows)"
   ]
  },
  {
   "cell_type": "markdown",
   "metadata": {},
   "source": [
    "<b>Mỗi cột hiện đang có kiểu dữ liệu gì? Có cột nào có kiểu dữ liệu chưa phù hợp để có thể xử lý tiếp không?</b>\n",
    "\n",
    "Lưu giá trị của các kiểu dữ liệu vào biến `col_dtypes`."
   ]
  },
  {
   "cell_type": "code",
   "execution_count": null,
   "metadata": {},
   "outputs": [],
   "source": [
    "#   YOUR CODE HEAR\n",
    "df_job.dtypes\n",
    "col_dtypes = df_job.dtypes\n",
    "print(col_dtypes)"
   ]
  },
  {
   "cell_type": "markdown",
   "metadata": {},
   "source": [
    "<b>Tìm kiếm kiểu dữ liệu thật sự của các cột có dtype là object.</b>"
   ]
  },
  {
   "cell_type": "code",
   "execution_count": null,
   "metadata": {},
   "outputs": [],
   "source": [
    "# YOUR CODE HERE\n",
    "def open_object_dtype(s):\n",
    "    dtypes = set()\n",
    "    s.apply(lambda x : dtypes.add(type(x)))\n",
    "    return dtypes\n",
    "\n",
    "for i in df_job.columns:\n",
    "    print(open_object_dtype(df_job[i]))"
   ]
  },
  {
   "cell_type": "code",
   "execution_count": null,
   "metadata": {},
   "outputs": [],
   "source": [
    "df_job.head()"
   ]
  },
  {
   "cell_type": "markdown",
   "metadata": {},
   "source": [
    "Ta có thể thấy những vấn đề sau khi khám phá:\n",
    "- Cột `three_reasons` có những giá trị là float, đây có thể là những giá trị nan nên hãy chuyển nó sang dạng chuỗi rỗng để tiện cho việc sử dụng sau này.\n",
    "- Ngoài ra dữ liệu không có những kiểu dữ liệu dạng số và ngày tháng, điều này giúp tiền xử lí không quá phức tạp."
   ]
  },
  {
   "cell_type": "markdown",
   "metadata": {},
   "source": [
    "<h2><b>Tiền xử lí dữ liệu </b></h2>"
   ]
  },
  {
   "cell_type": "markdown",
   "metadata": {},
   "source": [
    "<b>Đổi giá trị NaN sang chuỗi rỗng.</b>"
   ]
  },
  {
   "cell_type": "code",
   "execution_count": null,
   "metadata": {},
   "outputs": [],
   "source": [
    "df_job['three_reasons'] = df_job['three_reasons'].replace([np.nan],'')"
   ]
  },
  {
   "cell_type": "markdown",
   "metadata": {},
   "source": [
    "<b><h2>Khám phá dữ liệu ( Tiếp tục )</h2></b>"
   ]
  },
  {
   "cell_type": "markdown",
   "metadata": {},
   "source": [
    "<b>Với mỗi cột có kiểu dữ liệu dạng categorical, các giá trị được phân bố như thế nào?</b>\n",
    "\n",
    "Với mỗi cột dạng categorical, bạn tính tỉ lệ % giá trị thiếu (từ 0 đến 100), số lượng giá trị khác nhau (không xét giá trị thiếu), list/array các giá trị khác nhau (không xét giá trị thiếu). Bạn lưu kết quả vào dataframe `cate_col_profiles_df`. Dataframe này có 3 dòng là \"missing_ratio\", \"num_diff_vals\", \"diff_vals\"; và có 7 cột là \"job_id\", \"company_id\", \"job_name\", \"taglist\", \"location\", \"three_reasons\", \"description\"."
   ]
  },
  {
   "cell_type": "code",
   "execution_count": null,
   "metadata": {},
   "outputs": [],
   "source": [
    "# YOUR CODE HEAR\n",
    "# YOUR CODE HERE\n",
    "cate_col_profiles_df = pd.DataFrame(\n",
    "    index = pd.Index(['missing_ratio','num_diff_vals','diff_vals'])\n",
    ")\n",
    "def cate_col_profile(df):\n",
    "    missing_ratio = (df.isnull().sum() / df.shape[0]) * 100\n",
    "    num_diff_vals = df.nunique()\n",
    "    temp = df\n",
    "    temp = temp.dropna()\n",
    "    diff_vals = set(temp)\n",
    "    result = [missing_ratio,num_diff_vals,diff_vals]\n",
    "    return result\n",
    "for i in df_job.columns:\n",
    "    cate_col_profiles_df[i] = cate_col_profile(df_job[i])\n",
    "print(cate_col_profiles_df['three_reasons'])\n"
   ]
  },
  {
   "cell_type": "markdown",
   "metadata": {},
   "source": [
    "Có vẻ như không có gì bất thường ở dữ liệu cả, tiếp theo ta sẽ đi đến bước đưa ra những câu hỏi về dữ liệu."
   ]
  },
  {
   "cell_type": "markdown",
   "metadata": {},
   "source": [
    "<h2><b>Đưa ra những câu hỏi về dữ liệu</b></h2>\n",
    "\n",
    "- Hiện nay nhà tuyển dụng tìm kiếm 4 job level chính là: Fresher, Junior, Senior, Manager. Vậy hãy đếm số lượng của từng loại job level trên và vẽ một biểu đồ cột giúp chúng ta so sánh. (job_name)\n",
    "- Thị trường Việt Nam đa phần là thị trường Outsource vậy hãy tìm những công ti chuyên làm về Outsourcing trong danh sách các công ti trong Dataframe trên và lưu lại vào một Dataframe mới tên là `df_outsourcing`. Sau đó hãy tìm tên những nước nào có trong dataframe đó lưu vào một dict gồm keys là tên đất nước và values là số lượng công ti làm việc cho đất nước đó, sắp xếp theo thứ tự giảm dần.\n",
    "- Tìm ra 10 công nghệ được nhiều công ti tuyển dụng đề ra và săn đón nhiều nhất. \n",
    "- Hãy tìm những quận huyện ở HCM và HN trong df_job, sau đó lưu vào 2 dict là HCM và HN với keys là tên huyện, values là số lượng công ti tuyển dụng ở quận huyện đó. Sau đó vẽ một barchart để thể hiện dict này.\n"
   ]
  }
 ],
 "metadata": {
  "kernelspec": {
   "display_name": "Python 3.9.0 64-bit",
   "language": "python",
   "name": "python3"
  },
  "language_info": {
   "codemirror_mode": {
    "name": "ipython",
    "version": 3
   },
   "file_extension": ".py",
   "mimetype": "text/x-python",
   "name": "python",
   "nbconvert_exporter": "python",
   "pygments_lexer": "ipython3",
   "version": "3.9.0"
  },
  "orig_nbformat": 4,
  "vscode": {
   "interpreter": {
    "hash": "6f0405dd55fe551edf6ef7ed620dd0db247e1c02a63f3f08a6428c3e43caeaee"
   }
  }
 },
 "nbformat": 4,
 "nbformat_minor": 2
}
